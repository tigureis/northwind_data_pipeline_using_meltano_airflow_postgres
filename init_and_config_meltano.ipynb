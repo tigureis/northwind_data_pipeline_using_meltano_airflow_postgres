{
 "cells": [
  {
   "cell_type": "markdown",
   "metadata": {},
   "source": [
    "# Before running this notebook, ensure the following steps are completed:\n",
    "\n",
    "* Docker Compose File: Upload the docker-compose.yml file to the root directory of your project.\n",
    "\n",
    "* Data Directory and SQL File: Create a directory named data in the root of your project. Place the northwind.sql file inside this newly created data directory.\n"
   ]
  },
  {
   "cell_type": "code",
   "execution_count": 11,
   "metadata": {},
   "outputs": [
    {
     "name": "stdout",
     "output_type": "stream",
     "text": [
      "\u001b[33mWARN\u001b[0m[0000] /home/tigureis/DNC_engenharia_de_dados/Indicium_Tech_Code_Challenge/docker-compose.yml: the attribute `version` is obsolete, it will be ignored, please remove it to avoid potential confusion \n",
      "\u001b[1A\u001b[1B\u001b[0G\u001b[?25l[+] Running 0/0\n",
      " \u001b[33m⠋\u001b[0m Container indicium_tech_code_challenge-db-1  Stopping                   \u001b[34m0.0s \u001b[0m\n",
      "\u001b[?25h\u001b[1A\u001b[1A\u001b[0G\u001b[?25l[+] Running 0/1\n",
      " \u001b[33m⠙\u001b[0m Container indicium_tech_code_challenge-db-1  Stopping                   \u001b[34m0.1s \u001b[0m\n",
      "\u001b[?25h\u001b[1A\u001b[1A\u001b[0G\u001b[?25l[+] Running 0/1\n",
      " \u001b[33m⠹\u001b[0m Container indicium_tech_code_challenge-db-1  Stopping                   \u001b[34m0.2s \u001b[0m\n",
      "\u001b[?25h\u001b[1A\u001b[1A\u001b[0G\u001b[?25l[+] Running 0/1\n",
      " \u001b[33m⠸\u001b[0m Container indicium_tech_code_challenge-db-1  Stopping                   \u001b[34m0.3s \u001b[0m\n",
      "\u001b[?25h\u001b[1A\u001b[1A\u001b[0G\u001b[?25l[+] Running 0/1\n",
      " \u001b[33m⠼\u001b[0m Container indicium_tech_code_challenge-db-1  Removing                   \u001b[34m0.4s \u001b[0m\n",
      "\u001b[?25h\u001b[1A\u001b[1A\u001b[0G\u001b[?25l[+] Running 2/1\n",
      " \u001b[32m✔\u001b[0m Container indicium_tech_code_challenge-db-1   \u001b[32mRemoved\u001b[0m                   \u001b[34m0.5s \u001b[0m\n",
      " \u001b[33m\u001b[1m!\u001b[0m Network indicium_tech_code_challenge_default  \u001b[33m\u001b[1mResource is still in use\u001b[0m  \u001b[34m0.0s \u001b[0m\n",
      "\u001b[?25h\u001b[33mWARN\u001b[0m[0000] /home/tigureis/DNC_engenharia_de_dados/Indicium_Tech_Code_Challenge/docker-compose.yml: the attribute `version` is obsolete, it will be ignored, please remove it to avoid potential confusion \n",
      "\u001b[33mWARN\u001b[0m[0000] Found orphan containers ([indicium_tech_code_challenge-create_db-1]) for this project. If you removed or renamed this service in your compose file, you can run this command with the --remove-orphans flag to clean it up. \n",
      "\u001b[1A\u001b[1B\u001b[0G\u001b[?25l[+] Running 0/0\n",
      " \u001b[33m⠋\u001b[0m Container indicium_tech_code_challenge-db-1  Creating                   \u001b[34m0.0s \u001b[0m\n",
      "\u001b[?25h\u001b[1A\u001b[1A\u001b[0G\u001b[?25l[+] Running 0/1\n",
      " \u001b[33m⠙\u001b[0m Container indicium_tech_code_challenge-db-1  Creating                   \u001b[34m0.1s \u001b[0m\n",
      "\u001b[?25h\u001b[1A\u001b[1A\u001b[0G\u001b[?25l[+] Running 0/1\n",
      " \u001b[33m⠹\u001b[0m Container indicium_tech_code_challenge-db-1  Creating                   \u001b[34m0.2s \u001b[0m\n",
      "\u001b[?25h\u001b[1A\u001b[1A\u001b[0G\u001b[?25l[+] Running 0/1\n",
      " \u001b[33m⠸\u001b[0m Container indicium_tech_code_challenge-db-1  Creating                   \u001b[34m0.3s \u001b[0m\n",
      "\u001b[?25h\u001b[1A\u001b[1A\u001b[0G\u001b[?25l[+] Running 0/1\n",
      " \u001b[33m⠼\u001b[0m Container indicium_tech_code_challenge-db-1  Creating                   \u001b[34m0.4s \u001b[0m\n",
      "\u001b[?25h\u001b[1A\u001b[1A\u001b[0G\u001b[?25l\u001b[34m[+] Running 1/1\u001b[0m\n",
      " \u001b[32m✔\u001b[0m Container indicium_tech_code_challenge-db-1  \u001b[32mCreated\u001b[0m                    \u001b[34m0.5s \u001b[0m\n",
      "\u001b[?25h\u001b[1A\u001b[1A\u001b[0G\u001b[?25l[+] Running 0/1\n",
      " \u001b[33m⠴\u001b[0m Container indicium_tech_code_challenge-db-1  Starting                   \u001b[34m0.6s \u001b[0m\n",
      "\u001b[?25h\u001b[1A\u001b[1A\u001b[0G\u001b[?25l[+] Running 0/1\n",
      " \u001b[33m⠦\u001b[0m Container indicium_tech_code_challenge-db-1  Starting                   \u001b[34m0.7s \u001b[0m\n",
      "\u001b[?25h\u001b[1A\u001b[1A\u001b[0G\u001b[?25l[+] Running 0/1\n",
      " \u001b[33m⠧\u001b[0m Container indicium_tech_code_challenge-db-1  Starting                   \u001b[34m0.8s \u001b[0m\n",
      "\u001b[?25h\u001b[1A\u001b[1A\u001b[0G\u001b[?25l[+] Running 0/1\n",
      " \u001b[33m⠇\u001b[0m Container indicium_tech_code_challenge-db-1  Starting                   \u001b[34m0.9s \u001b[0m\n",
      "\u001b[?25h\u001b[1A\u001b[1A\u001b[0G\u001b[?25l[+] Running 0/1\n",
      " \u001b[33m⠏\u001b[0m Container indicium_tech_code_challenge-db-1  Starting                   \u001b[34m1.0s \u001b[0m\n",
      "\u001b[?25h\u001b[1A\u001b[1A\u001b[0G\u001b[?25l[+] Running 0/1\n",
      " \u001b[33m⠋\u001b[0m Container indicium_tech_code_challenge-db-1  Starting                   \u001b[34m1.1s \u001b[0m\n",
      "\u001b[?25h\u001b[1A\u001b[1A\u001b[0G\u001b[?25l[+] Running 0/1\n",
      " \u001b[33m⠙\u001b[0m Container indicium_tech_code_challenge-db-1  Starting                   \u001b[34m1.2s \u001b[0m\n",
      "\u001b[?25h\u001b[1A\u001b[1A\u001b[0G\u001b[?25l\u001b[34m[+] Running 1/1\u001b[0m\n",
      " \u001b[32m✔\u001b[0m Container indicium_tech_code_challenge-db-1  \u001b[32mStarted\u001b[0m                    \u001b[34m1.3s \u001b[0m\n",
      "\u001b[?25h"
     ]
    }
   ],
   "source": [
    "# Stop any currently running Docker Compose instances associated with this project and then restart \n",
    "# Docker Compose to load the database into PostgreSQL.\n",
    "\n",
    "!docker compose down\n",
    "!docker compose up -d"
   ]
  },
  {
   "cell_type": "code",
   "execution_count": 13,
   "metadata": {},
   "outputs": [
    {
     "name": "stdout",
     "output_type": "stream",
     "text": [
      "\u001b[2m2025-02-04T04:03:14.447550Z\u001b[0m [\u001b[33m\u001b[1mwarning  \u001b[0m] \u001b[1mFound meltano project at: /home/tigureis/DNC_engenharia_de_dados/Indicium_Tech_Code_Challenge/meltano\u001b[0m\n",
      "\u001b[31mNeed help fixing this problem? Visit http://melta.no/ for troubleshooting steps, or to\n",
      "join our friendly Slack community.\n",
      "\n",
      "A `meltano.yml` file already exists in the target directory. Use `--force` to overwrite it.\u001b[0m\n"
     ]
    }
   ],
   "source": [
    "# create a meltano project called meltano\n",
    "\n",
    "!meltano init meltano"
   ]
  },
  {
   "cell_type": "code",
   "execution_count": 6,
   "metadata": {},
   "outputs": [
    {
     "name": "stdout",
     "output_type": "stream",
     "text": [
      "[Errno 2] No such file or directory: 'meltano'\n",
      "/home/tigureis/DNC_engenharia_de_dados/Indicium_Tech_Code_Challenge/meltano\n"
     ]
    },
    {
     "name": "stderr",
     "output_type": "stream",
     "text": [
      "/home/tigureis/DNC_engenharia_de_dados/Indicium_Tech_Code_Challenge/.venv/lib/python3.10/site-packages/IPython/core/magics/osm.py:393: UserWarning: This is now an optional IPython functionality, using bookmarks requires you to install the `pickleshare` library.\n",
      "  bkms = self.shell.db.get('bookmarks', {})\n"
     ]
    },
    {
     "name": "stdout",
     "output_type": "stream",
     "text": [
      "\u001b[32mAdded loader 'target-postgres' to your project\u001b[0m\n",
      "Variant:\tmeltanolabs (default)\n",
      "Repository:\thttps://github.com/MeltanoLabs/target-postgres\n",
      "Documentation:\thttps://hub.meltano.com/loaders/target-postgres--meltanolabs\n",
      "\n",
      "\u001b[2m2025-02-04T03:17:49.322795Z\u001b[0m [\u001b[32m\u001b[1minfo     \u001b[0m] \u001b[1mInstalling loader 'target-postgres'\u001b[0m\n",
      "\u001b[2m2025-02-04T03:18:15.750158Z\u001b[0m [\u001b[32m\u001b[1minfo     \u001b[0m] \u001b[1mInstalled loader 'target-postgres'\u001b[0m\n",
      "\n",
      "To learn more about loader 'target-postgres', visit https://hub.meltano.com/loaders/target-postgres--meltanolabs\n"
     ]
    }
   ],
   "source": [
    "#cd to the meltano folder and install the extractor/loaders\n",
    "\n",
    "%cd meltano\n",
    "!meltano add extractor tap-postgres\n",
    "!meltano add extractor tap-csv\n",
    "!meltano add loader target-csv\n",
    "!meltano add loader target-postgres"
   ]
  },
  {
   "cell_type": "code",
   "execution_count": 3,
   "metadata": {},
   "outputs": [
    {
     "name": "stdout",
     "output_type": "stream",
     "text": [
      "\u001b[2m2025-02-02T12:50:25.503419Z\u001b[0m [\u001b[32m\u001b[1minfo     \u001b[0m] \u001b[1mThe default environment 'dev' will be ignored for `meltano config`. To configure a specific environment, please use the option `--environment=<environment name>`.\u001b[0m\n",
      "\u001b[32mExtractor 'tap-postgres' setting 'database' was set in `meltano.yml`: \u001b[0m\u001b[32m'northwind'\u001b[0m\n",
      "\u001b[2m2025-02-02T12:50:28.796362Z\u001b[0m [\u001b[32m\u001b[1minfo     \u001b[0m] \u001b[1mThe default environment 'dev' will be ignored for `meltano config`. To configure a specific environment, please use the option `--environment=<environment name>`.\u001b[0m\n",
      "\u001b[32mExtractor 'tap-postgres' setting 'host' was set in `meltano.yml`: \u001b[0m\u001b[32m'localhost'\u001b[0m\n",
      "\u001b[2m2025-02-02T12:50:31.684483Z\u001b[0m [\u001b[32m\u001b[1minfo     \u001b[0m] \u001b[1mThe default environment 'dev' will be ignored for `meltano config`. To configure a specific environment, please use the option `--environment=<environment name>`.\u001b[0m\n",
      "\u001b[32mExtractor 'tap-postgres' setting 'port' was set in `meltano.yml`: \u001b[0m\u001b[32m5432\u001b[0m\n",
      "\u001b[2m2025-02-02T12:50:36.913430Z\u001b[0m [\u001b[32m\u001b[1minfo     \u001b[0m] \u001b[1mThe default environment 'dev' will be ignored for `meltano config`. To configure a specific environment, please use the option `--environment=<environment name>`.\u001b[0m\n",
      "\u001b[32mExtractor 'tap-postgres' setting 'user' was set in `meltano.yml`: \u001b[0m\u001b[32m'northwind_user'\u001b[0m\n",
      "\u001b[2m2025-02-02T12:50:40.037695Z\u001b[0m [\u001b[32m\u001b[1minfo     \u001b[0m] \u001b[1mThe default environment 'dev' will be ignored for `meltano config`. To configure a specific environment, please use the option `--environment=<environment name>`.\u001b[0m\n",
      "\u001b[32mExtractor 'tap-postgres' setting 'password' was set in `.env`: \u001b[0m\u001b[33m(redacted)\u001b[0m\n"
     ]
    }
   ],
   "source": [
    "#configure the tap-postgres with the server information\n",
    "\n",
    "!meltano config tap-postgres set database northwind\n",
    "!meltano config tap-postgres set host localhost\n",
    "!meltano config tap-postgres set port 5432\n",
    "!meltano config tap-postgres set user northwind_user"
   ]
  },
  {
   "cell_type": "markdown",
   "metadata": {},
   "source": [
    "### on the meltano folder, create .env with a variable\n",
    "TAP_POSTGRES_PASSWORD='{database-password}'"
   ]
  },
  {
   "cell_type": "code",
   "execution_count": null,
   "metadata": {},
   "outputs": [
    {
     "name": "stderr",
     "output_type": "stream",
     "text": [
      "NOTICE:  schema \"golden\" already exists, skipping\n"
     ]
    },
    {
     "name": "stdout",
     "output_type": "stream",
     "text": [
      "CREATE SCHEMA\n",
      "Schema created successfully!\n"
     ]
    },
    {
     "name": "stderr",
     "output_type": "stream",
     "text": [
      "\u001b[2m2025-02-04T04:28:34.941359Z\u001b[0m [\u001b[32m\u001b[1minfo     \u001b[0m] \u001b[1mThe default environment 'dev' will be ignored for `meltano config`. To configure a specific environment, please use the option `--environment=<environment name>`.\u001b[0m\n"
     ]
    },
    {
     "name": "stdout",
     "output_type": "stream",
     "text": [
      "Extractor 'tap-postgres' setting 'password' was set in `.env`: (redacted)\n",
      "Current value is still: (redacted) (from the environment)\n",
      "Password set successfully in Meltano.\n"
     ]
    },
    {
     "name": "stderr",
     "output_type": "stream",
     "text": [
      "\u001b[2m2025-02-04T04:28:37.702871Z\u001b[0m [\u001b[32m\u001b[1minfo     \u001b[0m] \u001b[1mThe default environment 'dev' will be ignored for `meltano config`. To configure a specific environment, please use the option `--environment=<environment name>`.\u001b[0m\n"
     ]
    },
    {
     "name": "stdout",
     "output_type": "stream",
     "text": [
      "Loader 'target-postgres' setting 'password' was set in `.env`: (redacted)\n",
      "Password set successfully in Meltano.\n"
     ]
    }
   ],
   "source": [
    "# use the .env pasword to create a schema on the DB to recive the processed data\n",
    "\n",
    "import subprocess\n",
    "from dotenv import load_dotenv\n",
    "import os\n",
    "\n",
    "load_dotenv()\n",
    "\n",
    "# Get the password from the environment\n",
    "password = os.getenv(\"TAP_POSTGRES_PASSWORD\")\n",
    "\n",
    "command = f\"psql -h localhost -U northwind_user -d northwind -c \\\"CREATE SCHEMA IF NOT EXISTS golden;\\\"\"\n",
    "\n",
    "env = os.environ.copy()\n",
    "env[\"PGPASSWORD\"] = password\n",
    "\n",
    "try:\n",
    "    subprocess.run(command, shell=True, env=env, check=True)\n",
    "    print(\"Schema created successfully!\")\n",
    "except subprocess.CalledProcessError as e:\n",
    "    print(f\"Error: {e}\")\n",
    "\n",
    "\n",
    "\n",
    "# also, use the same passsword to configure the meltano acces to the db\n",
    "\n",
    "command = f\"meltano config tap-postgres set password {password}\"\n",
    "try:\n",
    "    subprocess.run(command, shell=True, check=True)\n",
    "    print(\"Password set successfully in Meltano.\")\n",
    "except subprocess.CalledProcessError as e:\n",
    "    print(f\"Error executing Meltano command: {e}\")\n",
    "\n",
    "\n",
    "command = f\"meltano config target-postgres set password {password}\"\n",
    "try:\n",
    "    subprocess.run(command, shell=True, check=True)\n",
    "    print(\"Password set successfully in Meltano.\")\n",
    "except subprocess.CalledProcessError as e:\n",
    "    print(f\"Error executing Meltano command: {e}\")"
   ]
  },
  {
   "cell_type": "code",
   "execution_count": 17,
   "metadata": {},
   "outputs": [
    {
     "name": "stdout",
     "output_type": "stream",
     "text": [
      "\u001b[2m2025-02-04T04:30:15.377493Z\u001b[0m [\u001b[32m\u001b[1minfo     \u001b[0m] \u001b[1mThe default environment 'dev' will be ignored for `meltano config`. To configure a specific environment, please use the option `--environment=<environment name>`.\u001b[0m\n",
      "\u001b[32mLoader 'target-postgres' setting 'database' was set in `meltano.yml`: \u001b[0m\u001b[32m'northwind'\u001b[0m\n",
      "\u001b[2m2025-02-04T04:30:18.298739Z\u001b[0m [\u001b[32m\u001b[1minfo     \u001b[0m] \u001b[1mThe default environment 'dev' will be ignored for `meltano config`. To configure a specific environment, please use the option `--environment=<environment name>`.\u001b[0m\n",
      "\u001b[32mLoader 'target-postgres' setting 'host' was set in `meltano.yml`: \u001b[0m\u001b[32m'localhost'\u001b[0m\n",
      "\u001b[2m2025-02-04T04:30:21.072259Z\u001b[0m [\u001b[32m\u001b[1minfo     \u001b[0m] \u001b[1mThe default environment 'dev' will be ignored for `meltano config`. To configure a specific environment, please use the option `--environment=<environment name>`.\u001b[0m\n",
      "\u001b[32mLoader 'target-postgres' setting 'port' was set in `meltano.yml`: \u001b[0m\u001b[32m5432\u001b[0m\n",
      "\u001b[2m2025-02-04T04:30:23.668136Z\u001b[0m [\u001b[32m\u001b[1minfo     \u001b[0m] \u001b[1mThe default environment 'dev' will be ignored for `meltano config`. To configure a specific environment, please use the option `--environment=<environment name>`.\u001b[0m\n",
      "\u001b[32mLoader 'target-postgres' setting 'user' was set in `meltano.yml`: \u001b[0m\u001b[32m'northwind_user'\u001b[0m\n",
      "\u001b[2m2025-02-04T04:30:28.381199Z\u001b[0m [\u001b[32m\u001b[1minfo     \u001b[0m] \u001b[1mThe default environment 'dev' will be ignored for `meltano config`. To configure a specific environment, please use the option `--environment=<environment name>`.\u001b[0m\n",
      "\u001b[32mLoader 'target-postgres' setting 'default_target_schema' was set in `meltano.yml`: \u001b[0m\u001b[32m'golden'\u001b[0m\n"
     ]
    }
   ],
   "source": [
    "!meltano config target-postgres set database northwind\n",
    "!meltano config target-postgres set host localhost\n",
    "!meltano config target-postgres set port 5432\n",
    "!meltano config target-postgres set user northwind_user\n",
    "!meltano config target-postgres set default_target_schema golden"
   ]
  },
  {
   "cell_type": "markdown",
   "metadata": {},
   "source": [
    "### On the Data folder upload the order_datails.csv file provided"
   ]
  },
  {
   "cell_type": "code",
   "execution_count": 19,
   "metadata": {},
   "outputs": [
    {
     "name": "stdout",
     "output_type": "stream",
     "text": [
      "\u001b[2m2025-02-04T05:53:44.786561Z\u001b[0m [\u001b[32m\u001b[1minfo     \u001b[0m] \u001b[1mThe default environment 'dev' will be ignored for `meltano config`. To configure a specific environment, please use the option `--environment=<environment name>`.\u001b[0m\n",
      "\u001b[32mExtractor 'tap-csv' setting 'files' was set in `meltano.yml`: \u001b[0m\u001b[32m[{'entity': 'order_details', 'path': '/home/tigureis/DNC_engenharia_de_dados/Indicium_Tech_Code_Challenge/data/order_details.csv', 'keys': ['order_id'], 'delimiter': ',', 'encoding': 'utf-8', 'header': True}]\u001b[0m\n"
     ]
    }
   ],
   "source": [
    "#configure the tap-csv with the path and file information\n",
    "\n",
    "!meltano config tap-csv set files '[{\"entity\": \"order_details\", \"path\": \"/home/tigureis/DNC_engenharia_de_dados/Indicium_Tech_Code_Challenge/data/order_details.csv\", \"keys\": [\"order_id\"], \"delimiter\": \",\", \"encoding\": \"utf-8\", \"header\": true}]'"
   ]
  },
  {
   "cell_type": "code",
   "execution_count": 37,
   "metadata": {},
   "outputs": [
    {
     "name": "stdout",
     "output_type": "stream",
     "text": [
      "\u001b[33mLoader 'target-csv' already exists in your Meltano project\u001b[0m\n",
      "To add it to your project another time so that each can be configured differently,\n",
      "add a new plugin inheriting from the existing one with its own unique name:\n",
      "\tmeltano add loader target-csv--new --inherit-from target-csv\n",
      "\n",
      "\u001b[2m2025-02-03T05:21:04.730577Z\u001b[0m [\u001b[32m\u001b[1minfo     \u001b[0m] \u001b[1mInstalling loader 'target-csv'\u001b[0m\n",
      "\u001b[2m2025-02-03T05:21:09.113581Z\u001b[0m [\u001b[32m\u001b[1minfo     \u001b[0m] \u001b[1mInstalled loader 'target-csv' \u001b[0m\n",
      "\n",
      "To learn more about loader 'target-csv', visit https://hub.meltano.com/loaders/target-csv--meltanolabs\n",
      "\u001b[2m2025-02-03T05:21:11.664406Z\u001b[0m [\u001b[32m\u001b[1minfo     \u001b[0m] \u001b[1mThe default environment 'dev' will be ignored for `meltano config`. To configure a specific environment, please use the option `--environment=<environment name>`.\u001b[0m\n",
      "\u001b[32mLoader 'target-csv' setting 'destination_path' was set in `meltano.yml`: \u001b[0m\u001b[32m'/home/tigureis/DNC_engenharia_de_dados/Indicium_Tech_Code_Challenge/data/uploaded/raw'\u001b[0m\n",
      "\u001b[2m2025-02-03T05:21:14.412800Z\u001b[0m [\u001b[32m\u001b[1minfo     \u001b[0m] \u001b[1mThe default environment 'dev' will be ignored for `meltano config`. To configure a specific environment, please use the option `--environment=<environment name>`.\u001b[0m\n",
      "\u001b[32mLoader 'target-csv' setting 'file_naming_scheme' was set in `meltano.yml`: \u001b[0m\u001b[32m'raw_{stream_name}_{datestamp}.csv'\u001b[0m\n"
     ]
    }
   ],
   "source": [
    "#configure the target-csv with the path destination and file name schema\n",
    "\n",
    "!meltano config target-csv set destination_path /home/tigureis/DNC_engenharia_de_dados/Indicium_Tech_Code_Challenge/data/uploaded/raw/postgres/\n",
    "!meltano config target-csv set file_naming_scheme raw_{stream_name}_{datestamp}.csv"
   ]
  },
  {
   "cell_type": "code",
   "execution_count": 20,
   "metadata": {},
   "outputs": [
    {
     "name": "stdout",
     "output_type": "stream",
     "text": [
      "\u001b[33mExtractor 'tap-csv--golden' already exists in your Meltano project\u001b[0m\n",
      "To add it to your project another time so that each can be configured differently,\n",
      "add a new plugin inheriting from the existing one with its own unique name:\n",
      "\tmeltano add extractor tap-csv--golden--new --inherit-from tap-csv--golden\n",
      "\n",
      "\u001b[2m2025-02-04T05:54:31.397125Z\u001b[0m [\u001b[32m\u001b[1minfo     \u001b[0m] \u001b[1mInstalling extractor 'tap-csv--golden'\u001b[0m\n",
      "\u001b[2m2025-02-04T05:54:36.481403Z\u001b[0m [\u001b[32m\u001b[1minfo     \u001b[0m] \u001b[1mInstalled extractor 'tap-csv--golden'\u001b[0m\n",
      "\n",
      "To learn more about extractor 'tap-csv--golden', visit https://hub.meltano.com/extractors/tap-csv--meltanolabs\n",
      "\u001b[2m2025-02-04T05:54:38.862430Z\u001b[0m [\u001b[32m\u001b[1minfo     \u001b[0m] \u001b[1mThe default environment 'dev' will be ignored for `meltano config`. To configure a specific environment, please use the option `--environment=<environment name>`.\u001b[0m\n",
      "\u001b[32mExtractor 'tap-csv--golden' setting 'files' was set in `meltano.yml`: \u001b[0m\u001b[32m[{'entity': 'order-merged-detail', 'path': '/home/tigureis/DNC_engenharia_de_dados/Indicium_Tech_Code_Challenge/data/uploaded/to_go/order-merged-detail.csv', 'keys': ['order_id'], 'delimiter': ',', 'encoding': 'utf-8', 'header': True}]\u001b[0m\n"
     ]
    }
   ],
   "source": [
    "!meltano add extractor tap-csv--golden --inherit-from tap-csv\n",
    "!meltano config tap-csv--golden set files '[{\"entity\": \"order-merged-detail\", \"path\": \"/home/tigureis/DNC_engenharia_de_dados/Indicium_Tech_Code_Challenge/data/uploaded/to_go/order-merged-detail.csv\", \"keys\": [\"order_id\"], \"delimiter\": \",\", \"encoding\": \"utf-8\", \"header\": true}]'"
   ]
  },
  {
   "cell_type": "code",
   "execution_count": 4,
   "metadata": {},
   "outputs": [
    {
     "name": "stdout",
     "output_type": "stream",
     "text": [
      "\u001b[2m2025-02-03T21:38:29.123828Z\u001b[0m [\u001b[32m\u001b[1minfo     \u001b[0m] \u001b[1mInstalling 5 plugins          \u001b[0m\n",
      "\u001b[2m2025-02-03T21:38:29.369443Z\u001b[0m [\u001b[32m\u001b[1minfo     \u001b[0m] \u001b[1mInstalling extractor 'tap-postgres'\u001b[0m\n",
      "\u001b[2m2025-02-03T21:38:29.445450Z\u001b[0m [\u001b[32m\u001b[1minfo     \u001b[0m] \u001b[1mInstalling extractor 'tap-csv'\u001b[0m\n",
      "\u001b[2m2025-02-03T21:38:29.510385Z\u001b[0m [\u001b[32m\u001b[1minfo     \u001b[0m] \u001b[1mInstalling loader 'target-csv'\u001b[0m\n",
      "\u001b[2m2025-02-03T21:38:29.541207Z\u001b[0m [\u001b[32m\u001b[1minfo     \u001b[0m] \u001b[1mInstalling orchestrator 'airflow'\u001b[0m\n",
      "\u001b[2m2025-02-03T21:38:29.582285Z\u001b[0m [\u001b[32m\u001b[1minfo     \u001b[0m] \u001b[1mInstalling file bundle 'files-airflow'\u001b[0m\n",
      "\u001b[2m2025-02-03T21:38:34.000012Z\u001b[0m [\u001b[32m\u001b[1minfo     \u001b[0m] \u001b[1mInstalled orchestrator 'airflow'\u001b[0m\n",
      "\u001b[2m2025-02-03T21:38:37.840434Z\u001b[0m [\u001b[32m\u001b[1minfo     \u001b[0m] \u001b[1mInstalled loader 'target-csv' \u001b[0m\n",
      "\u001b[2m2025-02-03T21:38:37.866217Z\u001b[0m [\u001b[32m\u001b[1minfo     \u001b[0m] \u001b[1mInstalled extractor 'tap-csv' \u001b[0m\n",
      "\u001b[2m2025-02-03T21:38:40.222449Z\u001b[0m [\u001b[32m\u001b[1minfo     \u001b[0m] \u001b[1mInstalled file bundle 'files-airflow'\u001b[0m\n",
      "\u001b[2m2025-02-03T21:38:40.253433Z\u001b[0m [\u001b[32m\u001b[1minfo     \u001b[0m] \u001b[1mRun `meltano upgrade files` to update your project's 'files-airflow' files.\u001b[0m\n",
      "\u001b[2m2025-02-03T21:38:41.051086Z\u001b[0m [\u001b[32m\u001b[1minfo     \u001b[0m] \u001b[1mInstalled extractor 'tap-postgres'\u001b[0m\n",
      "\u001b[2m2025-02-03T21:38:41.051740Z\u001b[0m [\u001b[32m\u001b[1minfo     \u001b[0m] \u001b[1mInstalled 5/5 plugins         \u001b[0m\n"
     ]
    }
   ],
   "source": [
    "!meltano install"
   ]
  }
 ],
 "metadata": {
  "kernelspec": {
   "display_name": ".venv",
   "language": "python",
   "name": "python3"
  },
  "language_info": {
   "codemirror_mode": {
    "name": "ipython",
    "version": 3
   },
   "file_extension": ".py",
   "mimetype": "text/x-python",
   "name": "python",
   "nbconvert_exporter": "python",
   "pygments_lexer": "ipython3",
   "version": "3.10.16"
  }
 },
 "nbformat": 4,
 "nbformat_minor": 2
}
